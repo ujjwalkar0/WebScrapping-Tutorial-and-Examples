{
 "cells": [
  {
   "cell_type": "code",
   "execution_count": 19,
   "metadata": {},
   "outputs": [],
   "source": [
    "import requests\n",
    "from bs4 import BeautifulSoup as bs\n",
    "import pandas as pd \n",
    "\n",
    "url=\"https://www.iplt20.com/points-table/2020\"\n",
    "\n",
    "r = requests.get(url)\n",
    "htmlContent = r.content\n",
    "\n",
    "soup = bs(htmlContent, 'html.parser')\n",
    "table = soup.find_all('table',class_=\"standings-table standings-table--full\")\n",
    "\n",
    "# # a=list()\n",
    "\n",
    "# for i in soup.find_all('th'):\n",
    "#     print(\"head=\",i.text)\n",
    "\n",
    "# for j in soup.find_all('td'):\n",
    "#     print(\"data=\",j.text)\n",
    "# # for k in soup.find_all('span',class_=\"standings-table__team-name js-team\"):\n",
    "# #     print(k.text)\n",
    "# # print(table)"
   ]
  },
  {
   "cell_type": "code",
   "execution_count": 27,
   "metadata": {},
   "outputs": [
    {
     "data": {
      "text/plain": [
       "['',\n",
       " 'Team',\n",
       " 'Pld',\n",
       " 'Won',\n",
       " 'Lost',\n",
       " 'Tied',\n",
       " 'N/R',\n",
       " 'Net RR',\n",
       " 'For',\n",
       " 'Against',\n",
       " 'Pts',\n",
       " 'Form']"
      ]
     },
     "execution_count": 27,
     "metadata": {},
     "output_type": "execute_result"
    }
   ],
   "source": [
    "column=list()\n",
    "for i in soup.find_all('th'):\n",
    "    column.append(i.text)\n",
    "column"
   ]
  },
  {
   "cell_type": "code",
   "execution_count": 86,
   "metadata": {},
   "outputs": [],
   "source": [
    "b=list()\n",
    "for j in soup.find_all('td'):\n",
    "    b.append(j.text)\n",
    "b\n",
    "c=list()\n",
    "init=0\n",
    "for k in range(9):\n",
    "    c.append(b[init:init+12])\n",
    "    init += 12"
   ]
  },
  {
   "cell_type": "code",
   "execution_count": 88,
   "metadata": {},
   "outputs": [],
   "source": [
    "df = pd.DataFrame(c, columns = column) \n",
    "df.to_csv(\"ipl.csv\")"
   ]
  },
  {
   "cell_type": "code",
   "execution_count": 75,
   "metadata": {},
   "outputs": [
    {
     "data": {
      "text/plain": [
       "[['Q',\n",
       "  '\\n\\n\\nMumbai Indians\\nMI\\n\\n',\n",
       "  '14',\n",
       "  '9',\n",
       "  '5',\n",
       "  '0',\n",
       "  '0',\n",
       "  '+1.107',\n",
       "  '2,378/262.2',\n",
       "  '2,187/274.5',\n",
       "  '18',\n",
       "  ' \\nW\\nL\\nW\\nW\\nL\\n\\n'],\n",
       " ['Q',\n",
       "  '\\n\\n\\nDelhi Capitals\\nDC\\n\\n',\n",
       "  '14',\n",
       "  '8',\n",
       "  '6',\n",
       "  '0',\n",
       "  '0',\n",
       "  '-0.109',\n",
       "  '2,289/278.5',\n",
       "  '2,271/273',\n",
       "  '16',\n",
       "  ' \\nL\\nL\\nL\\nL\\nW\\n\\n'],\n",
       " ['Q',\n",
       "  '\\n\\n\\nSunrisers Hyderabad\\nSRH\\n\\n',\n",
       "  '14',\n",
       "  '7',\n",
       "  '7',\n",
       "  '0',\n",
       "  '0',\n",
       "  '+0.608',\n",
       "  '2,225/269.3',\n",
       "  '2,125/277.5',\n",
       "  '14',\n",
       "  ' \\nW\\nL\\nW\\nW\\nW\\n\\n'],\n",
       " ['Q',\n",
       "  '\\n\\n\\nRoyal Challengers Bangalore\\nRCB\\n\\n',\n",
       "  '14',\n",
       "  '7',\n",
       "  '7',\n",
       "  '0',\n",
       "  '0',\n",
       "  '-0.172',\n",
       "  '2,147/272.2',\n",
       "  '2,183/271',\n",
       "  '14',\n",
       "  ' \\nW\\nL\\nL\\nL\\nL\\n\\n'],\n",
       " ['5',\n",
       "  '\\n\\n\\nKolkata Knight Riders\\nKKR\\n\\n',\n",
       "  '14',\n",
       "  '7',\n",
       "  '7',\n",
       "  '0',\n",
       "  '0',\n",
       "  '-0.214',\n",
       "  '2,219/278',\n",
       "  '2,206/269.1',\n",
       "  '14',\n",
       "  ' \\nL\\nW\\nL\\nL\\nW\\n\\n'],\n",
       " ['6',\n",
       "  '\\n\\n\\nKings XI Punjab\\nKXIP\\n\\n',\n",
       "  '14',\n",
       "  '6',\n",
       "  '8',\n",
       "  '0',\n",
       "  '0',\n",
       "  '-0.162',\n",
       "  '2,335/277.5',\n",
       "  '2,343/273.3',\n",
       "  '12',\n",
       "  ' \\nW\\nW\\nW\\nL\\nL\\n\\n'],\n",
       " ['7',\n",
       "  '\\n\\n\\nChennai Super Kings\\nCSK\\n\\n',\n",
       "  '14',\n",
       "  '6',\n",
       "  '8',\n",
       "  '0',\n",
       "  '0',\n",
       "  '-0.455',\n",
       "  '2,191/274.3',\n",
       "  '2,275/269.4',\n",
       "  '12',\n",
       "  ' \\nL\\nL\\nW\\nW\\nW\\n\\n'],\n",
       " ['8',\n",
       "  '\\n\\n\\nRajasthan Royals\\nRR\\n\\n',\n",
       "  '14',\n",
       "  '6',\n",
       "  '8',\n",
       "  '0',\n",
       "  '0',\n",
       "  '-0.569',\n",
       "  '2,288/272.4',\n",
       "  '2,482/277',\n",
       "  '12',\n",
       "  ' \\nW\\nL\\nW\\nW\\nL\\n\\n'],\n",
       " []]"
      ]
     },
     "execution_count": 75,
     "metadata": {},
     "output_type": "execute_result"
    }
   ],
   "source": [
    "c"
   ]
  },
  {
   "cell_type": "code",
   "execution_count": 51,
   "metadata": {},
   "outputs": [],
   "source": [
    "# for j in soup.find_all('td'):\n",
    "#     a[1][0]=(j.text)\n",
    "a[1]="
   ]
  },
  {
   "cell_type": "code",
   "execution_count": 52,
   "metadata": {},
   "outputs": [
    {
     "data": {
      "text/plain": [
       "[['',\n",
       "  'Team',\n",
       "  'Pld',\n",
       "  'Won',\n",
       "  'Lost',\n",
       "  'Tied',\n",
       "  'N/R',\n",
       "  'Net RR',\n",
       "  'For',\n",
       "  'Against',\n",
       "  'Pts',\n",
       "  'Form'],\n",
       " [7, None, None, None, None, None, None, None, None, None, None, None],\n",
       " [7, None, None, None, None, None, None, None, None, None, None, None],\n",
       " [7, None, None, None, None, None, None, None, None, None, None, None],\n",
       " [7, None, None, None, None, None, None, None, None, None, None, None],\n",
       " [7, None, None, None, None, None, None, None, None, None, None, None],\n",
       " [7, None, None, None, None, None, None, None, None, None, None, None],\n",
       " [7, None, None, None, None, None, None, None, None, None, None, None],\n",
       " [7, None, None, None, None, None, None, None, None, None, None, None]]"
      ]
     },
     "execution_count": 52,
     "metadata": {},
     "output_type": "execute_result"
    }
   ],
   "source": [
    "a"
   ]
  },
  {
   "cell_type": "code",
   "execution_count": null,
   "metadata": {},
   "outputs": [],
   "source": []
  },
  {
   "cell_type": "code",
   "execution_count": null,
   "metadata": {},
   "outputs": [],
   "source": []
  },
  {
   "cell_type": "code",
   "execution_count": 14,
   "metadata": {},
   "outputs": [
    {
     "data": {
      "text/plain": [
       "[('Geeks', 11, 11),\n",
       " ('For', 22, 22),\n",
       " ('Geeks', 33, 33),\n",
       " ('is', 44, 44),\n",
       " ('portal', 55, 55),\n",
       " ('for', 66, 66),\n",
       " ('Geeks', 77, 77)]"
      ]
     },
     "execution_count": 14,
     "metadata": {},
     "output_type": "execute_result"
    }
   ],
   "source": [
    "lst = ['Geeks', 'For', 'Geeks', 'is', 'portal', 'for', 'Geeks'] \n",
    "lst2 = [11, 22, 33, 44, 55, 66, 77] \n",
    "lst3 = [11, 22, 33, 44, 55, 66, 77] \n",
    "list(zip(lst, lst2, lst3))"
   ]
  },
  {
   "cell_type": "code",
   "execution_count": null,
   "metadata": {},
   "outputs": [],
   "source": []
  }
 ],
 "metadata": {
  "kernelspec": {
   "display_name": "Python 3",
   "language": "python",
   "name": "python3"
  },
  "language_info": {
   "codemirror_mode": {
    "name": "ipython",
    "version": 3
   },
   "file_extension": ".py",
   "mimetype": "text/x-python",
   "name": "python",
   "nbconvert_exporter": "python",
   "pygments_lexer": "ipython3",
   "version": "3.8.5"
  }
 },
 "nbformat": 4,
 "nbformat_minor": 4
}
